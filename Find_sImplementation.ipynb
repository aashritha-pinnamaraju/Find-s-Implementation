{
  "nbformat": 4,
  "nbformat_minor": 0,
  "metadata": {
    "colab": {
      "name": "Find-sImplementation.ipynb",
      "provenance": [],
      "collapsed_sections": [],
      "authorship_tag": "ABX9TyPQ2I9dHCfpHMEWfoTG9Md4",
      "include_colab_link": true
    },
    "kernelspec": {
      "name": "python3",
      "display_name": "Python 3"
    }
  },
  "cells": [
    {
      "cell_type": "markdown",
      "metadata": {
        "id": "view-in-github",
        "colab_type": "text"
      },
      "source": [
        "<a href=\"https://colab.research.google.com/github/aashritha-pinnamaraju/Find-s-Implementation/blob/master/Find_sImplementation.ipynb\" target=\"_parent\"><img src=\"https://colab.research.google.com/assets/colab-badge.svg\" alt=\"Open In Colab\"/></a>"
      ]
    },
    {
      "cell_type": "code",
      "metadata": {
        "id": "V-a99SFxai9J",
        "colab_type": "code",
        "colab": {}
      },
      "source": [
        "import pandas as pd \n",
        "df=pd.read_csv('https://raw.githubusercontent.com/aashritha-pinnamaraju/Find-s-Implementation/master/data11_sports6.csv')\n",
        "dataset = df.values.tolist()"
      ],
      "execution_count": 1,
      "outputs": []
    },
    {
      "cell_type": "code",
      "metadata": {
        "id": "uex9Mt1MbPRJ",
        "colab_type": "code",
        "colab": {
          "base_uri": "https://localhost:8080/",
          "height": 101
        },
        "outputId": "5f8acf47-1a3d-4578-f84d-10417cd608cf"
      },
      "source": [
        "print(df)"
      ],
      "execution_count": 2,
      "outputs": [
        {
          "output_type": "stream",
          "text": [
            "     Sky AirTemp Humidity    Wind Water Forecast  EnjoySport\n",
            "0  sunny    warm   normal  strong  warm     same           1\n",
            "1  sunny    warm     high  strong  warm     same           1\n",
            "2  rainy    cold     high  strong  warm   change           0\n",
            "3  sunny    warm     high  strong  cool   change           1\n"
          ],
          "name": "stdout"
        }
      ]
    },
    {
      "cell_type": "code",
      "metadata": {
        "id": "J2Iu5qenbQ8d",
        "colab_type": "code",
        "colab": {
          "base_uri": "https://localhost:8080/",
          "height": 84
        },
        "outputId": "19534cf3-ab17-443d-cfaa-8bcd4a67551f"
      },
      "source": [
        "flag = 0\n",
        "h=[];\n",
        "for x in range(len(dataset)):\n",
        "    t=dataset[x]              # Get an instance from the dataset\n",
        "    if t[-1]==1 and flag==0:  # Initialize h with first +ve sample\n",
        "      flag=1\n",
        "      h = dataset[x]\n",
        "    elif t[-1]==1:            # Update h with remaining +ve samples\t\n",
        "      for y in range(len(t)):\n",
        "        if h[y]!=t[y]:\n",
        "            h[y]='?'\n",
        "    print(\"Training instance {0} the hypothesis is : \".format(x+1),end=' ')\n",
        "    print(h[0:-1])"
      ],
      "execution_count": 3,
      "outputs": [
        {
          "output_type": "stream",
          "text": [
            "Training instance 1 the hypothesis is :  ['sunny', 'warm', 'normal', 'strong', 'warm', 'same']\n",
            "Training instance 2 the hypothesis is :  ['sunny', 'warm', '?', 'strong', 'warm', 'same']\n",
            "Training instance 3 the hypothesis is :  ['sunny', 'warm', '?', 'strong', 'warm', 'same']\n",
            "Training instance 4 the hypothesis is :  ['sunny', 'warm', '?', 'strong', '?', '?']\n"
          ],
          "name": "stdout"
        }
      ]
    },
    {
      "cell_type": "code",
      "metadata": {
        "id": "SA3U9X9-bV_3",
        "colab_type": "code",
        "colab": {
          "base_uri": "https://localhost:8080/",
          "height": 50
        },
        "outputId": "322a6af0-44cc-4a78-bc8c-651f0ddad194"
      },
      "source": [
        "print(\"The maximally specific hypothesis for a given training examples\")        \n",
        "print(h[:-1])"
      ],
      "execution_count": 4,
      "outputs": [
        {
          "output_type": "stream",
          "text": [
            "The maximally specific hypothesis for a given training examples\n",
            "['sunny', 'warm', '?', 'strong', '?', '?']\n"
          ],
          "name": "stdout"
        }
      ]
    }
  ]
}